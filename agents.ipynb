{
 "cells": [
  {
   "cell_type": "code",
   "execution_count": 1,
   "id": "125c219b",
   "metadata": {},
   "outputs": [
    {
     "name": "stderr",
     "output_type": "stream",
     "text": [
      "2025/11/02 01:43:13 INFO mlflow.utils.credentials: Successfully connected to MLflow hosted tracking server! Host: https://dbc-7d1169bb-4536.cloud.databricks.com.\n"
     ]
    }
   ],
   "source": [
    "import mlflow\n",
    "\n",
    "# Connect to Databricks workspace with submitted credentials or use stored credentials\n",
    "mlflow.login()\n",
    "# Set tracking URI to Databricks -  tell MLflow to send the data into Databricks Workspace\n",
    "mlflow.set_tracking_uri(\"databricks\")"
   ]
  },
  {
   "cell_type": "code",
   "execution_count": 2,
   "id": "eb1ce258",
   "metadata": {},
   "outputs": [
    {
     "name": "stderr",
     "output_type": "stream",
     "text": [
      "INFO:databricks.sdk:loading DEFAULT profile from ~/.databrickscfg: host, token\n",
      "INFO:databricks.sdk:loading DEFAULT profile from ~/.databrickscfg: host, token\n"
     ]
    },
    {
     "name": "stderr",
     "output_type": "stream",
     "text": [
      "INFO:databricks.sdk:loading DEFAULT profile from ~/.databrickscfg: host, token\n",
      "INFO:databricks.sdk:loading DEFAULT profile from ~/.databrickscfg: host, token\n",
      "INFO:databricks.sdk:loading DEFAULT profile from ~/.databrickscfg: host, token\n",
      "INFO:databricks.sdk:loading DEFAULT profile from ~/.databrickscfg: host, token\n",
      "INFO:databricks.sdk:loading DEFAULT profile from ~/.databrickscfg: host, token\n",
      "INFO:databricks.sdk:loading DEFAULT profile from ~/.databrickscfg: host, token\n",
      "INFO:code_model_c4db7002def341d9b923f483c55004a4:Initializing ToolCallingAgentNoMemory with model: gpt-5-nano\n",
      "2025/11/02 01:43:26 INFO mlflow.pyfunc: Predicting on input example to validate output\n",
      "INFO:databricks.sdk:loading DEFAULT profile from ~/.databrickscfg: host, token\n",
      "INFO:databricks.sdk:loading DEFAULT profile from ~/.databrickscfg: host, token\n",
      "INFO:code_model_c4db7002def341d9b923f483c55004a4:Last message type: message and role: user\n",
      "INFO:code_model_c4db7002def341d9b923f483c55004a4:Calling LLM with messages: [{'role': 'system', 'content': 'You are a helpful assistant that can call tools to get information.'}, {'status': None, 'content': 'What is the full name of poet Byron?', 'role': 'user', 'type': 'message'}]\n",
      "INFO:httpx:HTTP Request: POST https://openrouter.ai/api/v1/responses \"HTTP/1.1 200 OK\"\n",
      "INFO:code_model_c4db7002def341d9b923f483c55004a4:LLM output: [ResponseReasoningItem(id='rs_0cf467fdbfb744d7016906a93418308194a2231c363d2cda35', summary=[], type='reasoning', content=None, encrypted_content='gAAAAABpBqk2B5vWmc2Opt8DQ_yYovVGTyT7kMqQs8c0WPmm9Gu-SSDCW0f524ZjAVtr4Ywdn0fpr7uK47_GQfT3xU5T-Qm-fJVTJQDZS7sI7L5kdyQw7nNe81O_EpY2A1bEnqxugAfyIawm-xrEE0A9SzI3nPoOeHJ_Yug0ZFXkG4S8cmdCVtetzvbzoznxNSd5xXOiLxDMbDmjES4Ikgd9vC6XQGewM5147h3gosbgt-4aZ4EXhyVLFWRPlbbvMMJYQo3a-9zfaLa1P8OD3j0-0d_b7JDlvMZtYAVO6NEIoBXBsWU2N6uNW8kKKFyn4IbsXCkjGheLv5sjp1TmIbOZhvTwg0Eb5QYIpZHyB9SmzHzZOJb8C8I73-JVmvRYH4hjWQiZM04ZdMgfFhv-A7X6ZONSsNDFutRFl3hfHXCC0vWfQfA-N7mhzcW8E4qyDfIX0vc1bZfR58HTSrDdqUF9ywpmALQnvX2moP2vkGzFFXsepyIIN3ZkLnQ7cA2PSn47lXBJhXUa7Jw-0WAKoh0ts7DzVTFGe65il8W90yjZG-BoncW-7jVaHqHbL1KdZbxyGfIzfmw4P1gLvhSPYiZG1lHgRiGpCOIoUq8SHH4lkuD0XLI7_dkS33HQfNzpvYZOTwBZkzllG5XyIEeTIZpzVQJnUKvtgeygecMWx_8fahZL8n4PyI2UoIjbT_8eDNSfwiQQv7vH-IBUHrbMNTFeMmO6-le-cV07U_KZ8DvnfbwvTCe8C1Ru6DqU8uDHIiDnj7VdvQei4xZ_nbVI7mI6NbeN9uU7-DbqnLAUvHlsrd6b0SN_2_BjbqWQ18D_K5LZpcMUuEQCGmJw43zloELUdCicUb-AHXWDLJXDL2WDZy9-khbN8M5wYSRWGQ82y_a-L7aA2Lycb0MN8i0h5k8Ce75E80ebgl5qQQ3cp2dDeS0zKaMszZx3Rgxku5c1K0alrvuoOM0BnHrKv12R6gf1cevwglyn3HL657hriw-Q58mWln7-qKQOPapY93w11ZgL7EJEqpnHc4P9DLlLNQ7eoUxDdNNl6ZM3kc37Hjy4LwBlymx_5UaLrZIt7wOPhgSbK7zY1HylnhC77B-u-scojyUv5cTtXjPhkHHSHDv9HnoI4tT_ufgtVEqDofhv1PRdG_Qs7FObUL4KA-awH2AX1me1VXtwkdRU0iQrH8wSJ_KLGOhk0SjqwF1Edvs6_yA3vfkU88eV2TlA7ilGQAL3LuIdeyoFj9JnDo1-QVFRQg1ID4fINz-3JnHgWXAnguIgXgEz-WaxuxSiN-PIiW4hUyq6upuhpYkPq8y80EYgmgCcuRKMOzfEc3uZCiPTCzeFyZRcinOHj6VmHAaYDZq3oW2Fss290vxTJD9bclicKJbhWuQSjS_mSkgnb0Twbaz5y81otm5AWCK2pskcnihZN-1gU2X_3DINpLDpn46vrumG7pZWRfUrULEgcZhr20pbkGbUXg3avg1dN0qWcKDppf-B5ZwkTG6p1YadO8csZ8dPdohHAe4nXhqLPM591xky3Ms-muboW-l2qKRwlABKuufB2mnRI08caW6nSAb9hrfNfKkRjqqxeHIaw8f7r7YRedTOW8KRwpvojArcXkc3sdWNuT-6xa8v8VaPUsJ2m6y4PAEdqu1K06Ti6jBwU9ceotmaeFytPNlwAoPhxbhaOON9VaJXXoJfEOiU9O8fGe_XXxmUkKyp_CtFO8NcXGT72G1gt52ZCZAYGIyD7v6dbEbbFGX05RGruVh5ihFN8FIFngKmjabD36wSxEoM-9HCfQO3Pd-lqsHq3TDzoVTQsogKdRqHHCaDlqptOrjXsno6Fy6j97LF6tmiQARIEF97AmXS9qL6ZL_rqd9qTXeH-ZJ9F1_3W1FROQlwdV5tnfd1kJxsHxd50gxV9E7bgvTyBDv_-uALoQCZfYnQtdIxh9FU23xh99yXq5NdBLJd7zGcrHVHJgANQHwcLnf9NhZMobwn3yDSYRsuBKXgFIu5UmDwLjU6edlQqF6A5pFWAQ4gCXDB2mX0XNHNiOIdFTv-xgcvthLuqty1ieJVVvpOPDOap8FM7b7kM1wSja23Klr9GrnIOhPsJ4m0Gz5ddKYxO4R0aBdirr8EHDZP3lq8eX7q3unhpS78teuHy360uSR9mlCArX06qwQr5N88xXGeZ5NJUUPQ1xOpIEBprLhKySTGOMmPYhLVj_Q7_D-2zCZS37tY2EKYZs0le9aUUC-TaVJSWzwxjBN9K_hIq6W48EePPXs4JwcAEyHJYoZEbRa1O3Ah9mHVPfrU91DHANOV1rTxR98SdlifLkr0PgaQWFUd7T4wrddb7IYtBHV4zIfHB2urZ4eHFr_txGa-02xRh1nPIC8V', status=None, format='openai-responses-v1'), ResponseOutputMessage(id='msg_tmp_vnztzq477t8', content=[ResponseOutputText(annotations=[], text='George Gordon Byron. He is also known as Lord Byron (6th Baron Byron).', type='output_text', logprobs=None)], role='assistant', status='completed', type='message')]\n",
      "INFO:code_model_c4db7002def341d9b923f483c55004a4:Last message type: message and role: assistant\n",
      "INFO:code_model_c4db7002def341d9b923f483c55004a4:Last message is a final assistant output: {'id': 'msg_tmp_vnztzq477t8', 'content': [{'annotations': [], 'text': 'George Gordon Byron. He is also known as Lord Byron (6th Baron Byron).', 'type': 'output_text', 'logprobs': None}], 'role': 'assistant', 'status': 'completed', 'type': 'message'}\n",
      "2025/11/02 01:45:39 WARNING mlflow.utils.environment: Encountered an unexpected error while inferring pip requirements (model URI: /tmp/tmpgv4oao43/model, flavor: python_function). Fall back to return ['cloudpickle==3.1.1']. Set logging level to DEBUG to see the full traceback. \n",
      "2025/11/02 01:45:39 DEBUG mlflow.utils.environment: \n",
      "Traceback (most recent call last):\n",
      "  File \"/home/marijo/.cache/pypoetry/virtualenvs/databricks-timeseries-ddx-2ipW-py3.12/lib/python3.12/site-packages/mlflow/utils/environment.py\", line 434, in infer_pip_requirements\n",
      "    return _infer_requirements(\n",
      "           ^^^^^^^^^^^^^^^^^^^^\n",
      "  File \"/home/marijo/.cache/pypoetry/virtualenvs/databricks-timeseries-ddx-2ipW-py3.12/lib/python3.12/site-packages/mlflow/utils/requirements_utils.py\", line 495, in _infer_requirements\n",
      "    modules = _capture_imported_modules(model_uri, flavor, extra_env_vars=extra_env_vars)\n",
      "              ^^^^^^^^^^^^^^^^^^^^^^^^^^^^^^^^^^^^^^^^^^^^^^^^^^^^^^^^^^^^^^^^^^^^^^^^^^^\n",
      "  File \"/home/marijo/.cache/pypoetry/virtualenvs/databricks-timeseries-ddx-2ipW-py3.12/lib/python3.12/site-packages/mlflow/utils/requirements_utils.py\", line 391, in _capture_imported_modules\n",
      "    _run_command(\n",
      "  File \"/home/marijo/.cache/pypoetry/virtualenvs/databricks-timeseries-ddx-2ipW-py3.12/lib/python3.12/site-packages/mlflow/utils/requirements_utils.py\", line 265, in _run_command\n",
      "    raise MlflowException(msg)\n",
      "mlflow.exceptions.MlflowException: Encountered an unexpected error while running ['/home/marijo/.cache/pypoetry/virtualenvs/databricks-timeseries-ddx-2ipW-py3.12/bin/python', '/home/marijo/.cache/pypoetry/virtualenvs/databricks-timeseries-ddx-2ipW-py3.12/lib/python3.12/site-packages/mlflow/utils/_capture_modules.py', '--model-path', '/tmp/tmpgv4oao43/model', '--flavor', 'python_function', '--output-file', '/tmp/tmpk4z175sj/imported_modules.txt', '--error-file', '/tmp/tmpk4z175sj/error.txt', '--sys-path', '[\"/usr/lib/python312.zip\", \"/usr/lib/python3.12\", \"/usr/lib/python3.12/lib-dynload\", \"\", \"/home/marijo/.cache/pypoetry/virtualenvs/databricks-timeseries-ddx-2ipW-py3.12/lib/python3.12/site-packages\", \"/home/marijo/.cache/pypoetry/virtualenvs/databricks-timeseries-ddx-2ipW-py3.12/local/lib/python3.12/dist-packages\", \"/home/marijo/.cache/pypoetry/virtualenvs/databricks-timeseries-ddx-2ipW-py3.12/lib/python3/dist-packages\", \"/home/marijo/.cache/pypoetry/virtualenvs/databricks-timeseries-ddx-2ipW-py3.12/lib/python3.12/dist-packages\"]']\n",
      "exit status: -9\n",
      "stdout: \n",
      "stderr: INFO:code_model_050fef7ece634b6999c4ebe017b021d6:Initializing ToolCallingAgentNoMemory with model: gpt-5-nano\n",
      "INFO:databricks.sdk:loading DEFAULT profile from ~/.databrickscfg: host, token\n",
      "INFO:databricks.sdk:loading DEFAULT profile from ~/.databrickscfg: host, token\n",
      "INFO:databricks.sdk:loading DEFAULT profile from ~/.databrickscfg: host, token\n",
      "INFO:databricks.sdk:loading DEFAULT profile from ~/.databrickscfg: host, token\n",
      "INFO:databricks.sdk:loading DEFAULT profile from ~/.databrickscfg: host, token\n",
      "INFO:code_model_050fef7ece634b6999c4ebe017b021d6:Last message type: message and role: user\n",
      "INFO:code_model_050fef7ece634b6999c4ebe017b021d6:Calling LLM with messages: [{'role': 'system', 'content': 'You are a helpful assistant that can call tools to get information.'}, {'status': None, 'content': 'What is the full name of poet Byron?', 'role': 'user', 'type': 'message'}]\n",
      "INFO:httpx:HTTP Request: POST https://openrouter.ai/api/v1/responses \"HTTP/1.1 200 OK\"\n",
      "INFO:code_model_050fef7ece634b6999c4ebe017b021d6:LLM output: [ResponseReasoningItem(id='rs_0bb7710a6680914f016906a942a57081948d83394f1eb319bb', summary=[], type='reasoning', content=None, encrypted_content='gAAAAABpBqlHvo67nmHHmLpHL6WFBM9LMu_gi5LJk7QjDTxgs821iOoNJ_pNnfxvYcJmtrT3aOX-My7QEnBdhbkqha_qwm5q1xwcKJuw9XJcmXmFBMlibhicD6cfyi9PcqFE-G3iNkvYdFDJLCVdhgX1-NlwcmaOwdxDEqyynF77wWGBRzHP0LSDpnE3ZtTOJu3abDcVjevdot1zXwFNQvDAkTfp-nUFPNLiUrM5AjTykJW8zpafSLezl22RNshf7qeW6JVbysXE6hkjTGz4-7PY8pLy-iaVgUPw2sonzHBk0W5jbwYwOCwA2iKJ4MxUkMwM7k7fdk4eM2zf6eKPKx1JdSW9L3TV2UKGqVKGZrUjW_P91zJf0SrNctHUKUo-lxIn4ADXKEUsh1l4uh4VK5V-lHOhXB5zxDDscfoF4jmnbHN2zDMGZFvQNuJLwD1WcHpcBPjIsSCBNX0ab0FFsQB_f8YT-z2blkX2Mn4DYUOCh4Yuzfxa6bO6RVAIzQ8Hl0WTdH2mVBg9C3ibHzfUZhZ3juVc6OYLBFve6OKvPa93wQqRzgGb5odICJ566OFO6F7l1qO5S5RagoVW7ultlYyiFiguWbOepEpRXpd5_KBqvwZi_WGfc6odaaB1D5glMB0itvqOfuN4LmBb2gxbBByNTkE9QNmqzhyjR7_al_juT7RikNe7Sk3bCVyzXXH2xQyDuw8VnKKZf81EiBBfHG_1lEMO0KcEQ0cYfBIu474z-G8s8m1RDr6vvVEoriBalvni6CVPW6KL9p0BQOhrP4c9DSGtx42aHta8A0SLw6hUzrY9vL1r70M81XIAj2hQwdC24-1XggIR2CjD6GcLhjHt8uRUqH322YhyD9IDltrd8DgXJJJG3ArJHmyyfkl3NSLTg1ugADwDUzCuTGGc5AXfs4kWUK0dUmdrTPcYy4ATwJiCwSKkqqeRkEnAzqMnvwVJDgtCt6N5bKjRaVNUv6cpCxqmMoKhA5B9O49YQreEVurQ7CAiKVpPpT6BSHCz0HS8CAkS4UqwDSTXxPc4aXAm684Boq9b588WVEBf5pa7MfLOYqaCEydzjoUlTv253FfMRqybzseuZn88tBQybS9muGc_WkEKtTsRlaiq_NcS4Jj8lzEdKfCPXiKp7zG0qIUtJDsY0XidSelb5ajfPUkKDxYZsnf617aofTgJ9oJgPPPq6s4fovMmO3pHw31UbJCCapvyuvibdnlfQIFCz88jYW8z7URltNwG_p05RmHfhw_mxhdhgjf7NzHvfVpH12P1Ilr8jdBi74wgO6jdsatmO0Ptc_g9NGgDvco9lVQUh50yn5IDuw97LUUA-90N7oOCdzxGDA0BjOwoc4AUBnKrBrmD8sv1HhDTb9OkZcuA2DCSdxPa1DfJ67w0qRZgnOaOjRZt3KKYUG77-HwTw-c-O2LNXNPoDsxRh5fiehcZ6s4KJs9LwoRoxnkdKViYbBjnopKqYSEkXysuqf6XlXIjd-BJ4IwHZUuGDeQ8YnxP2XPWZuaztJRG6HIJWwtH9Sd0V3a82YYK0H5lSgSv-D7B12slUMQUKSgVrci8z53gadKJK9KaCJeMmUDSEGJ4ASgLGq2wsiTEfpanPiTUhB_Q0cqHfS1fsKccMWzsvYRtqouFHriGx0zyDX-3qkyetuuUFQJ_1a9M0_HE3cl9XL4EGJEzbnlZVax7EDUnzKpGEERaqEvTlHvXETDG0Pnbw1yLyS0JY7Jhcj2kdpHbg7tkEyN2KC5mMofgmhBZFzkEyLXeCiqy9CTZdDQzPiC-_OgnVENKAd7Ndz21q23ayKHFeRhng2pKkZfbrFyZ0dBmSMMWkAEGIZR5d02ZwnGLDiNcaVWBPYrCPUaWUGhoGzb4pEipP0sZP_Uyu_9NaD3gGIvOJnp7pFaWp2voC0PslLMAtdFJz_xSa8QsXEm26bt1IGIC_5B5vOm8WedmGwGLSulUvT74jxZ6UVXTJvVzHoxOnUeiEPy945FEXPMzlv8Jwtphu6sUzc8XqLpyGiq4tY8nrn0g8bFTZuB_n0SWOim6r45TbxtZpdyVmssRyV0g_C2SHfoawwCupPGmoK1KwBrkMLEktErQUk_E2gmqIBINXUi6QMciXDUGPeEqB8leafb4HDC8kOfwV74b3H0oaBSFUNELXpDiAQAdgNWSXtDiVJuBzAsMlCMqEn2cFGqos4yaJ4jm0FdjTfSh9XngFKWid3KGQms0V5CynZdDHWEaD6Zorj3pEGViTPQ9Uu0u1wd8tdwD5Y88y03kNgPr5M9WXSwCAlCxbxepcMJrlQVVk4imdtERUErrfTVDtXJjyFD5K43DfvIz06YutAyoQGBMwDlP7IsrmYeNUvnI0jzkqp-1D5eXPneQD3bH_l_EOTdGp0iK5sXTUUGG06YhzerNGp5k4iIACnZLBLEzs1YeowY7kFb2GCCmEWhIabrdoID3GScuASBJkhGINa7AdoL-GJsszDUkdrPufZTSocGrIcTjs7zg2c_M_HpfjV0KQ0UQ2Ox0t1lufHz9x0Y2gaWYCN5GiGZ9SecABSGJsH3OOO89QFMN1FzC6z051Br3NGUUaoRRkD1blilq1lV6x6R-1TxpzeOHMxljiUWJ6dWAI5QPO-Ad8O6MXWwCAhQTLsmkY2K90Apme6NevYmWZo9Ze5WSubQ_RlJKwEytNAmvH0aF7wIX_4JYIRUSr0pkYiSl37ifH4_wRoMU5szn3z1LKJDER_a5Oz224B6lrR50H8XAkK_t5pO1r_SY9DTvHNiusX1Z6wfloY8S9uyYe-vFWiKa33WgOk_XMqGZtJQ2wjaoBNKnHyw2DeBYk5ta1lyozG7ZOP4sKBP0nZWatCz2ZslOxeoJ2woYCwhu0LdXkSQ97ImFhL1H5Xp-dIQrIoGJKc4zLczVgDCNL5AzvwxDHfcAGlJu1Pb31Rpq8QskyB4to_6F_JYE4b-u0YJrt13_7DJa1d9IjAmBNupL6G404DkJWyl6WSFbDdMe652-y2HFzPUkDgUSo4cbMyNtnaIR8FT6EnK8RPIFxmyKrcfIpMiLY7mZ0C1HcrnJNogBE5wbhLZ2I2JcgmhA9eOjTazaNrJnWV8lpS7hv-NAzDlDZH7EFxeHTVi1IFsKT1_-gQq5hJbkPi_H3LhUJEVCT5Y_ZDWj_VEmDfN2ddQ0hexUdc7xqAi3IG1OAd4EOfTG-lclNGeiUVp2R4G4tTfOc_MfMqqNjo8_LuMnh3Fdh1-XwO7psNb9Yt5A5yFSkBuiCrlEIfRoHHyaz8iTMq5r7yuaqdwNxo9RGenUaHiBhASfK_ExHwBFwA23-LfO7HciqiCSVPMEnuwP2RpZuIoqNjY1WmZj6hyACmVTawihOWbaGnlRsBAYxN_IKZf_BM5A0HoD0F1WqZ5kLaYudZulixgfbgLmph7cfshiYE-XoiGWS7ZcDIRfw8ApScdKF3m8q67WoKH-awsMjX-mSsoslT45YhshpS1qloeP788ZjBSmxjsd6FLPP4kRXjigbPBuXoqn2Bh1pr7S70c0mDgMwQDQ16aaS62vKLs3QOp3l63U-VtqV66U2exG29uoRwklHc8aJUi4nh-eTKI6lA3QDgvVC9-u-bdlrXUvH2d7CKcYHXxEqPmoMyo49ZBXGVqqO_W-BB9gETaxomShvkB2agO6jGP6oPD3qaQ4MbkPg66OLMPc1bavqxU4h3_kCOpu2GK13k4mneno2A-zV16ken6qhFdVJgeK7xQsT3gMXx0J13W7wi6JELdbZgJj54Aq8RRwnAcKF0brmqXfycgziMuFJKoRl6uBvrXlUDXewqFRUYUUtwHtEPFMMWXiYl1Y7BJ9iVCIO6sSJ35vHYj83ZThyCUk6UgBtbkDvug84t2Is7OrwNAZdi751bt7YTemW1kbK0nlScG1X-tLTd6QxE60m2cGES50Y_w0-kXrBt0qM66PfWgYecmSEyB7r2dWCX0EA0q4Ncmza6M6iK_x57szyx7qxyUM_Jy_3sakL7yx3NqHcNTyoGBhTKcCI9WkntDthEJMX5JmISfqe6kN-t92ipaX3YRArrHw_jjETNY3u56EYsNzapbZdK1_je8kkd4XQYkDmxORR-MhtYx30RZYd758OUgcWjA3eDLo4CypnbrlFBPcTzca4MxMqZ-fLjt-sgFd5dAMJ-YQh3VVoe3RYdQVoGd-7b0siRSPg50DOJMdNQdYgDNpR3gzA9tojlmEnsyBsv8xKrbIIeYqlKmZ2uhmQSllavXJ4CEIrE3ZcilaYHHfpsIsd9fL6nDs2zksJbuO2GIV4FNfuynxGrBHUtErItLXse8ZD-DIktzzlbz_jOi0TwhfPuppJxFlCI7iv2YhOCVlItIV4nxZ1PBJhnOMoyEWpRaxrhbKpgc2_GO6q9LrH3Ly4i2N9lfKO7UxI8bRsFiWfX8JPAJKe-Gn0WyLFeV_NLKhVHFRxK3QLnqOpO6Pp6DBaF3X9305vpOE7aq3PZZ4AQGnurDrsn4TRUEeU7_Kdh9QUo-T-PDUy44oLBpi756S2wZ7KE99xdAD3MrdwghuVWkkX1dxtCl493YGMWLMNf5AtsoIxay1olRuIus=', status=None, format='openai-responses-v1'), ResponseOutputMessage(id='msg_tmp_i58tglh683', content=[ResponseOutputText(annotations=[], text='George Gordon Byron — commonly known as Lord Byron; he later became the 6th Baron Byron.', type='output_text', logprobs=None)], role='assistant', status='completed', type='message')]\n",
      "INFO:code_model_050fef7ece634b6999c4ebe017b021d6:Last message type: message and role: assistant\n",
      "INFO:code_model_050fef7ece634b6999c4ebe017b021d6:Last message is a final assistant output: {'id': 'msg_tmp_i58tglh683', 'content': [{'annotations': [], 'text': 'George Gordon Byron — commonly known as Lord Byron; he later became the 6th Baron Byron.', 'type': 'output_text', 'logprobs': None}], 'role': 'assistant', 'status': 'completed', 'type': 'message'}\n",
      "INFO:databricks.sdk:loading DEFAULT profile from ~/.databrickscfg: host, token\n",
      "INFO:databricks.sdk:loading DEFAULT profile from ~/.databrickscfg: host, token\n",
      "\n",
      "INFO:code_model_c312e103e5cd4f9f98714986820adc6d:Initializing ToolCallingAgentNoMemory with model: gpt-5-nano\n",
      "INFO:code_model_c312e103e5cd4f9f98714986820adc6d:Last message type: message and role: user\n",
      "INFO:code_model_c312e103e5cd4f9f98714986820adc6d:Calling LLM with messages: [{'role': 'system', 'content': 'You are a helpful assistant that can call tools to get information.'}, {'status': None, 'content': 'What is the full name of poet Byron?', 'role': 'user', 'type': 'message'}]\n",
      "INFO:httpx:HTTP Request: POST https://openrouter.ai/api/v1/responses \"HTTP/1.1 200 OK\"\n",
      "INFO:code_model_c312e103e5cd4f9f98714986820adc6d:LLM output: [ResponseReasoningItem(id='rs_061c8246ab400b7f016906a9b99024819384e2dc40f099e506', summary=[Summary(text='**Clarifying Byron\\'s full name**\\n\\nI need to answer the user\\'s question about the full name of the poet Byron. It\\'s likely “George Gordon Byron, 6th Baron Byron,” commonly called Lord Byron. His full name is George Gordon Byron, and he was a British poet from 1788 to 1824. Sometimes he’s referred to as “George Gordon Noel Byron” if his middle name is included. His full birth name was indeed “George Gordon Byron.” After his mother\\'s death, he might have used her maiden name as well.**Summarizing Byron\\'s titles**\\n\\nLord Byron inherited the title of Baron Byron, officially becoming “George Gordon Byron, 6th Baron Byron.” He sometimes used “George Gordon Noel Byron” after adding Noel to his name. At birth, he was simply “George Gordon Byron.” His mother had connections to the Noel family, which might have influenced the name change. It’s a bit fuzzy, but his official name became “George Gordon Byron, 6th Baron Byron,” with \"Noel\" being added later.**Clarifying Byron\\'s name**\\n\\nFor genealogies, Byron\\'s full name is “George Gordon Byron, 6th Baron Byron,” while “George Gordon Noel Byron” might be used to reflect his maternal line. However, the standard answer to “What is the full name of poet Byron?” is typically “George Gordon Byron” or “George Gordon Byron, 6th Baron Byron.” To be thorough, I can mention he’s commonly known as Lord Byron, but since the user didn’t ask for more, a straightforward response with a note should suffice. There’s no need for additional research since this is general knowledge.**Crafting Byron\\'s answer**\\n\\nTo respond concisely: Byron\\'s full name is “George Gordon Byron.” He later became known as “George Gordon Byron, 6th Baron Byron,” or simply “Lord Byron.” While some sources add “Noel” to his name, that\\'s less standard. Since the user wants the full name, I’ll stick with “George Gordon Byron” and optionally mention that he’s also known as Lord Byron. His full name at birth was indeed “George Gordon Byron.” This should be a clear and concise response!', type='summary_text')], type='reasoning', content=None, encrypted_content='gAAAAABpBqnEQjJGBvT-Cp_mXsmqnzipJFgrbc6WJQL1lzUPcat9RcTA65fK9mRt_NfHrgpn44EboLcyXwXTPdXWsKzKSSOC4VlFPc6Fp1lvNsvi4lByF6aLf4j69Ut-sPW6D_xhu1Y0ySNgh0OXfMz728UOYI_8bvs-IgrjJYIgivbpEyWTATuv0Y84pbDITAbpJFHeGvEx_vBZbrLGYIK3Drqbnlz1YBp9f3W8LVIMqRXS690WWZBWZf7zd3wRscpRnALhJY8VFge0q0AXZVF4uvmA4Jywq3TpseZsd_uz0sIzdOZmbBq6kBbwhB6ewSywNkZ_a2HcQgSBmwZTmgt3xWMpbIkm1OiFhiIeNPNxbSgoyjXYAbJeCy9pndUnSIEhhswlUfvIGgbao8vjj9USPuBRF6Dyfh7BEEW-zHm8j27jbFJnjmOi4_1-j-U8vO_34nnX10SsS1pKTnH3n8zTZiCzwnmvozTNCapvKz8Upeyjrd0Kt7NMCw7RSlK06aUBNHV3DpbfMXvcxQS7rQNmr0caswIaXn1-EPCpgDPg0NZEC4pI6ArJHASRVD6moM-mWLFUdpELORTsVvoHnDolFyLCuO7hAYPnxnBkKHA6XzzASWKjd0BIY_hDjfD_zkLNLd50nAt54tfhF8OiP6ptva7BzHhP3Dg2ZNdrd0sAWXPwr-p_N94HdTt_UADyD5JHCEL-w7rL__vZ_R12ClIwo1lKInGDdhCZ-M2z7Sb_M3j9Mftp0zDMQwQ7DrvgWQIpMv7Dx5AY-uicNd7TbZIQKeo-ewLx549WSmVNidp_8BOxxkY_oHsm4cTPzhQpvVtn6RlxkmAxvHywqJhcc05ZBCK4S_k8B_52dBR9o3Zwo7jvu8C5kB6BruWXMKBhM2NYd9Y-aGqcAU68x7zYteMzJBBaLi5_vv9QNufOl83PPnaXuWg885s9XCMJghzAl_6v8_7TImHlC4gwrMiprPml5SezJeSMKUTSYpXOErc8GkuZ6Z8ZTzcHe07JaWp5Ez8cUyHaTQ5I2F4tTm8S0HGQCdzEyD1phSOFuHnugUJf5qOYsJEaWuaaBYLkmmv0QhLM6Igg4KLuMlaHS8lWyMa65QXgUcO0HCE1rRFaHsZlJG7XIPjt28TvKX7S9geRS6w9j_SzLTVErYRYHJdMK_qm8qb_u-J8r4DumINFG4yzc8ZC8-wNa5n32tW6GwgHdJPgXoYPhfifdRfiVkz7UX8Sg0eN9eri0GwYfzAuJRS8M3vmvRtjT0CTS4PxPFwaux5jy38_VgwWoMsPsggriE1s5Jxh_QereBIhjGhlsO0YVYEaui0VuAGrAKd2prJfuWRtRon6Ep2ptGky1EOHpabOYUinVYl2sTvkWgVoYbSRT1RlKqsxZAUf8mvH2PgDN2MLq6hEMM1wTLrYNzkQuM3e8CSjGw8wdRPwsRaN8ZeX956QKbf6V5zlobfRPLaQW8_Ua0b0dN5fSAfG370WYO1SjPC3UvhMmVR9FM9NA-u9rcX9O4VLyiqSHsK8v7IiSxwcy8v0-A4j7RpqMFSNh6_eJn4L8CAOV0dVMUF1Mr418spkL4bxeMfMrYa8yIDUdJfHqIKffa4fNMS-XElFIEFu50ciZ_1AtNPJbtUFDPFby6-lIzWOI7P4iKAB9kjagCiabuBHdLVKaGMw8T-wbT2HY_mvUKw3ixqkB-DV-81T6y563Qynx3lsF9j34kXE94TJ7BV9-MAFzYitJG0xmUghGxYXXgBW2kH_of-blVldnsxwYyTlW8aYLUM7Tga0UnP7SCfBXc0uTseOK9kvKQW0kqgAqKaRWjO0mAZcn4UEraPkyKC1kNwPTNFVsOsIIk8zQENktUFT1oBVD1xkr_3GmHbsc74QJ9rU1qo2iBa81sbqwhseSF27UkZhJNhGsFluUjf01VRhZneWCbaDXHwagfBftY9TqW2aAXtbwtly1YDncrBWavjTf_gncoDtDZwztjwFvcBKpGh2XkYkPoETS8DppS4X7NKsmcoo4qc4SBp0Yh80lZzRVoydFA_00SoC4o4GB6xKvxdtEBeRoABSciVGfJIyAyjMgsJGk3pGarIeMYLXone51oIewpQzUpM51Cog9pLZN5FVa_cUcuj1jpc2pj0sS6gWCrAsZBsjrh_bH7MtCKAEa_My8gRDMfkFCwIewxc52oALNkpgPfQ-Jb-t2FdAr4IGcFtGC6hnAM5xYQ7pCG9xSJZL8irLe4tFYS1QnFt8oz8CJut0Dm4Ixi8WSoD2eJDaCGC7xKfpLkM6QgkMBK2997Se6Gtwsj45Vv7V5O52yZZjeO9r1pbVxRTdDSlCbjW856NLFFMld2_7t9n32M_Qrj4zSolHChSl5YnLzSaY-uo1HFE2YGf-dlwKGhafu8GhihyT_nv0JXy3DRbGE_DVsDaZb9Let-O1oFKomIPlwouC7t0S1XmpZoi9WnKqfsicZ8OCVLDK5TyN2DXclvJjJeL4D-ua6RDtg-3_tX78Twr-IxrcT3zCEtUers6uKqDjZE3cEZw4-dBX0Abx1ArgOrQmJBh_tLdNfJDNmgI8Vqx7q_yiF-5Z5ybY3pggFaX28hXOf4naLv71FEmbsUCcUXSKGEvTpXxVQCP1NqhfZKth_glBoRsCYbZKKwsdZ5Hjpr_iWKupI-e_DaLNH2otousUXoCqipsG5yqqT0pSWMgOrSGN_SHHsgJTRfhUCAtdREo6rGhbEZDcoIdvDsTsxmXSdyG1FJFmwDBfDVrNaD2MknraTQYsEwu7fNk2HZVXYn6kMPU89BQIdzC0MPFvcTsqlsun5__ZA0S1KqEd2XIHzSbM0LEfKcgaqhzyr6rO7W85Q09c-oPS5jlR3eB9kpPnvjFKvfWaAc5lZirkHHvBfxyujwpcwd1s9jp6sVN9MAPYumGMPttWtdpMtDUN6u_DvYCpBY6b0sHy0ItL8Qf0WNNi2mTcz35ya3glAnfuR16SZgqqmyuiUsehSz7ari7meMhy30VjXLB2s4Y2lIGTnP5NTt99ZzuScJsRfOFh-WpJO8KDe3NtnPs3sagenGsdVCFE_vB4HVzOctIJx5bzFVj5aLq17MM8cYQeiC7FlROXu1eLwOZCZ3dUM0Ab7i8z8oc7ajKUV5UzjEAET4bkbhGCWdnLMG-EvK2ZMuSl6cvvLHSFz9CJS-hUloHbuSnsMqnm1Q98VW5i-FUTt1KfF76OU5YZhtzic-f8mm8Am2rlL6kn-LO3JPXKI0NoOofzqkJm5mBfXfQWIKEa7yy0iaU8hpPGiFXWvmi24q8c5R3F15DJBmqmfwNOg6UumKW7uZQhmC4wdckep2N2oVQgOYwT29_JHE9WJyn-79Mt58wjICN2YQrWXRh6bN9-JlIGPEAKByM2NO1JPi_kzl53NkH7qBWfJuDJGe37Ujh5ZNt4rjeO6EUjSmy4ArPLdULiareuc6GgxOP5U8aRtL0Xvm1eeynIFyoC6htstTnBy7qXcRWfHl7zdDLHOd7M9q4bk5ykeK3xxvgerMbYwnsvD1CijVspyoBLDfB53VCexRLbQv1NoKMzRZKsix_M54hRwDsu3SfG3HjYrkiglxMq83YNI8ItlWucMxwwr4tEt6deSFcaHRcro8P2ek7L0dSlIDpTEY7fUH-Y8jI5AYQS77JDIVjm64Vhjj5bllTctW6Bbjt49NAsZy0o-O8oHkdWAGh-tFCio5-qbH99ogObVkqeRs_UT80a08wh-ZBYo2PL-9o6pwjm-0vRFLkxCgrEOW3VyaZ8GLV6J_978Hv-0sBJ-ziIp5G0NiLraatOZZGyUzTJQ1gKr9E9Nx8TKm_pb9t9p7E1EeDJ1JNy1H0GhuVumDMqd9v4pNpBm3oX_c1v056ZvWLhG5JHgSpZL7GXgKGVnrEfvWzB1bMsg3FxUDz0CDsTwc_P3Vtai-OWmeqOyNVXXD01BFsFmvWZzPBQAVBlDhCUo2SQq_T5H6zLiJkAfW8Ec2b07KOeA_3_H2keCBB7uj7dB9a-HTZjGBWGz1p3i17ADSMdobMkR9Rx2DsMRvopTPqwvu-9xgf5SW2bDcW5xCqLXOsKxDoglD_7_izn6tos9aflUTLuvcAQHQBt_EdsSHqS1C_XxKbgokxA4rz4jnipjDRidVKn8J7c8hE_QcG68G3udLgBJnNomhBZAXlr6M67J-4P75zaIjmaUDDlgCLN-PdJsMjFTtL4UWQPnfaakVJZ8qXS9BsvEcFRninTfbX2SqEb80kJWVfvFA21sQMn28C4eirQp96SaHsk902RFF_fWrjXPLV5gG-_7tQs6gsCXlmPjhq50HRqv4vWNbXWyi9q0F_TfehgsVjEojMGXXYNoKr-_Yx6wsuNmKuYyq7cwWBJOy3eofmdxrNm_A9ix1JV5KMd-7AFRFHrOkSrumV9txSLlGRCi1Gv-scsFaizDhnjP40KEs1c0C9ow6dOMOrRxzEonn8QNAKYa3mCYs7NY5sHS1NDUTybRClVvmoZ_Oz_TscSo0ikz5czue242gSp4Wf44pHQiM75Tn3po2ulrjcUr-A9zXFW3VQ2469moZzn8feK5cBBIVDq_Km5kHNAVaWK-01eXajmkkM2lC8IuQMGtKeqOhgIhXRO2l3rac288JTjPLax6UiSBN-ZoD2cVt-hPpZ7J-M_oHoNe_gJMQsMo4yj5qkyt6iPUpjv0z8sTxuqJpJuyGrJd9FeZ4yNzDyQo-2HDpSpQSyQKHTYlDf4-a0hqVQJkVar0nY3PQwqefHREPYbtlp3ujjbkIjX1ut2hyEX_XSveJXToiGv89RDKSs73pHy4cB7K9k2P20BIsBMoz2vWYHSP3wcC0xI4E0DKyticwlJAbJLj9XJBldw2BIFMA5uH6mB9kbWL-CFNGxkvKhI-TcxdKElwDArKUvXsLoQYyebj2cfY-pxMEAZDSu0NLY8xc04igxyj5150I2ThYWvG08MMeM6aRH0RXu9UKTfNl8GvJAYAUcB8pUh7ToA9XFmRwN7rXwxAqIdC9ldf_2mDvvzSQPddRvcLB7O1xJzhV4APpxknbXPkvaIc0tBy3bQQ09Y1J0s8MrRNxVjy2pi3rhKRLDq_Ac9_SIsI3F0uZOwG1exE93c6yTP5fUsMA6R-_m3bJsrhFVDvm1Gc94r8KpLt8E4oI0j-e9Q_wJ0hIIVHndqz8fz_iVTv3XP5mFLNw8nt42-l0Yh8CCUQr-O92_4uElVRWxAuNc=', status=None, format='openai-responses-v1'), ResponseOutputMessage(id='msg_tmp_tq158lx7po', content=[ResponseOutputText(annotations=[], text='George Gordon Byron. He is commonly known as Lord Byron, later titled George Gordon Byron, 6th Baron Byron.', type='output_text', logprobs=None)], role='assistant', status='completed', type='message')]\n",
      "INFO:code_model_c312e103e5cd4f9f98714986820adc6d:Last message type: message and role: assistant\n",
      "INFO:code_model_c312e103e5cd4f9f98714986820adc6d:Last message is a final assistant output: {'id': 'msg_tmp_tq158lx7po', 'content': [{'annotations': [], 'text': 'George Gordon Byron. He is commonly known as Lord Byron, later titled George Gordon Byron, 6th Baron Byron.', 'type': 'output_text', 'logprobs': None}], 'role': 'assistant', 'status': 'completed', 'type': 'message'}\n",
      "2025/11/02 01:45:56 INFO mlflow.models.model: Found the following environment variables used during model inference: [OPENAI_API_KEY]. Please check if you need to set them when deploying the model. To disable this message, set environment variable `MLFLOW_RECORD_ENV_VARS_IN_MODEL_LOGGING` to `false`.\n",
      "INFO:databricks.sdk:loading DEFAULT profile from ~/.databrickscfg: host, token\n",
      "INFO:databricks.sdk:loading DEFAULT profile from ~/.databrickscfg: host, token\n",
      "INFO:databricks.sdk:loading DEFAULT profile from ~/.databrickscfg: host, token\n",
      "INFO:databricks.sdk:loading DEFAULT profile from ~/.databrickscfg: host, token\n",
      "Registered model 'workspace.default.helpful-agent-no-memory' already exists. Creating a new version of this model...\n",
      "INFO:databricks.sdk:loading DEFAULT profile from ~/.databrickscfg: host, token\n",
      "INFO:databricks.sdk:loading DEFAULT profile from ~/.databrickscfg: host, token\n",
      "INFO:databricks.sdk:loading DEFAULT profile from ~/.databrickscfg: host, token\n",
      "INFO:databricks.sdk:loading DEFAULT profile from ~/.databrickscfg: host, token\n",
      "INFO:databricks.sdk:loading DEFAULT profile from ~/.databrickscfg: host, token\n",
      "INFO:databricks.sdk:loading DEFAULT profile from ~/.databrickscfg: host, token\n",
      "INFO:databricks.sdk:loading DEFAULT profile from ~/.databrickscfg: host, token\n",
      "INFO:databricks.sdk:loading DEFAULT profile from ~/.databrickscfg: host, token\n",
      "/home/marijo/.cache/pypoetry/virtualenvs/databricks-timeseries-ddx-2ipW-py3.12/lib/python3.12/site-packages/tqdm/auto.py:21: TqdmWarning: IProgress not found. Please update jupyter and ipywidgets. See https://ipywidgets.readthedocs.io/en/stable/user_install.html\n",
      "  from .autonotebook import tqdm as notebook_tqdm\n",
      "Uploading artifacts: 100%|██████████| 10/10 [00:05<00:00,  1.93it/s]\n",
      "INFO:databricks.sdk:loading DEFAULT profile from ~/.databrickscfg: host, token\n",
      "Created version '11' of model 'workspace.default.helpful-agent-no-memory'.\n",
      "INFO:databricks.sdk:loading DEFAULT profile from ~/.databrickscfg: host, token\n",
      "INFO:databricks.sdk:loading DEFAULT profile from ~/.databrickscfg: host, token\n",
      "INFO:databricks.sdk:loading DEFAULT profile from ~/.databrickscfg: host, token\n",
      "INFO:databricks.sdk:loading DEFAULT profile from ~/.databrickscfg: host, token\n",
      "INFO:databricks.sdk:loading DEFAULT profile from ~/.databrickscfg: host, token\n",
      "INFO:databricks.sdk:loading DEFAULT profile from ~/.databrickscfg: host, token\n"
     ]
    },
    {
     "name": "stdout",
     "output_type": "stream",
     "text": [
      "🏃 View run righteous-loon-133 at: https://dbc-7d1169bb-4536.cloud.databricks.com/ml/experiments/1650092890066242/runs/3ab2257e7b484a3ca99aa763855d796f\n",
      "🧪 View experiment at: https://dbc-7d1169bb-4536.cloud.databricks.com/ml/experiments/1650092890066242\n"
     ]
    }
   ],
   "source": [
    "import os\n",
    "import logging\n",
    "import mlflow\n",
    "from datetime import datetime\n",
    "from dotenv import load_dotenv\n",
    "\n",
    "logging.basicConfig(level=logging.INFO)\n",
    "logging.getLogger(\"mlflow.utils.environment\").setLevel(logging.DEBUG)\n",
    "\n",
    "\n",
    "load_dotenv()\n",
    "\n",
    "experiment_name = f\"/Users/{os.environ['USER_EMAIL']}/agent-no-memory-{datetime.now()}\"\n",
    "try:\n",
    "    mlflow.create_experiment(experiment_name)\n",
    "except Exception as e:\n",
    "    print(f\"Experiment {experiment_name} already exists.\")\n",
    "mlflow.set_experiment(experiment_name)\n",
    "\n",
    "\n",
    "with mlflow.start_run():\n",
    "    logged_agent_info = mlflow.pyfunc.log_model(\n",
    "        python_model=\"agent.py\",\n",
    "        name=\"Helpful agent without memory\",\n",
    "        input_example={\n",
    "            \"input\": [\n",
    "                {\"role\": \"user\", \"content\": \"What is the full name of poet Byron?\"}\n",
    "            ]\n",
    "        },  # Example input instead of default sample \"Hello!\"\n",
    "        registered_model_name=\"workspace.default.helpful-agent-no-memory\",\n",
    "        code_paths=[\"agent.py\"],\n",
    "    )"
   ]
  }
 ],
 "metadata": {
  "kernelspec": {
   "display_name": "databricks-timeseries-ddx-2ipW-py3.12",
   "language": "python",
   "name": "python3"
  },
  "language_info": {
   "codemirror_mode": {
    "name": "ipython",
    "version": 3
   },
   "file_extension": ".py",
   "mimetype": "text/x-python",
   "name": "python",
   "nbconvert_exporter": "python",
   "pygments_lexer": "ipython3",
   "version": "3.12.3"
  }
 },
 "nbformat": 4,
 "nbformat_minor": 5
}
